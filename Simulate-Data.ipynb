{
 "cells": [
  {
   "cell_type": "markdown",
   "id": "c95cea40",
   "metadata": {},
   "source": [
    "### Import Libraries"
   ]
  },
  {
   "cell_type": "code",
   "execution_count": 1,
   "id": "e9c09f5a",
   "metadata": {},
   "outputs": [],
   "source": [
    "import numpy as np\n",
    "import pandas as pd\n",
    "import os\n",
    "from faker import Faker\n",
    "from datetime import date, timedelta\n",
    "from random import choices"
   ]
  },
  {
   "cell_type": "markdown",
   "id": "6e3d6f87",
   "metadata": {},
   "source": [
    "### Simulate Data: 10,000 entries"
   ]
  },
  {
   "cell_type": "code",
   "execution_count": 2,
   "id": "1aa577bb",
   "metadata": {},
   "outputs": [],
   "source": [
    "# size of simulation\n",
    "k = int(1e4)"
   ]
  },
  {
   "cell_type": "code",
   "execution_count": 3,
   "id": "95002cbb",
   "metadata": {},
   "outputs": [],
   "source": [
    "# estimated_duration\n",
    "# a task will take at least 1 day\n",
    "# up to 20 days (the high parameter is exclusive)\n",
    "est_duration = np.random.randint(1, 21, k)"
   ]
  },
  {
   "cell_type": "code",
   "execution_count": 4,
   "id": "682957e7",
   "metadata": {},
   "outputs": [],
   "source": [
    "# date ranges\n",
    "beginning, end = np.datetime64('2017-01-01'), np.datetime64('2022-12-31')\n",
    "\n",
    "# start_date\n",
    "start_date = [beginning]\n",
    "\n",
    "# loop to get each date\n",
    "while beginning != end:\n",
    "    beginning += np.timedelta64(1, 'D')\n",
    "    start_date.append(beginning)\n",
    "\n",
    "# random K dates from pack\n",
    "start_date = choices(start_date, k=k)"
   ]
  },
  {
   "cell_type": "code",
   "execution_count": 5,
   "id": "8ac976b1",
   "metadata": {},
   "outputs": [],
   "source": [
    "# real task duration\n",
    "real_duration = []\n",
    "\n",
    "for number in est_duration:\n",
    "    x = np.random.randint(int(number * (0.5)), int(number * (1.5)))\n",
    "    real_duration.append(x)\n",
    "\n",
    "real_duration = np.array(real_duration)"
   ]
  },
  {
   "cell_type": "code",
   "execution_count": 6,
   "id": "3296e492",
   "metadata": {},
   "outputs": [],
   "source": [
    "# end date\n",
    "end_date = []\n",
    "\n",
    "for (i, j) in zip(start_date, real_duration):\n",
    "        one_date = np.datetime64(i) + np.timedelta64(j, 'D')\n",
    "        end_date.append(one_date)"
   ]
  },
  {
   "cell_type": "code",
   "execution_count": 7,
   "id": "4e652216",
   "metadata": {},
   "outputs": [
    {
     "data": {
      "text/plain": [
       "(numpy.datetime64('2017-09-17'), 0, numpy.datetime64('2017-09-17'))"
      ]
     },
     "execution_count": 7,
     "metadata": {},
     "output_type": "execute_result"
    }
   ],
   "source": [
    "# test to see if it worked\n",
    "start_date[50], real_duration[50], end_date[50]"
   ]
  },
  {
   "cell_type": "markdown",
   "id": "0074f285",
   "metadata": {},
   "source": [
    "> Note: Now, we have to make sure the dates don't fall on weekends. For that, I'll use [`np.is_busday`](https://numpy.org/devdocs/reference/generated/numpy.is_busday.html) and [`np.busday_offset`](https://numpy.org/doc/stable/reference/generated/numpy.busday_offset.html)"
   ]
  },
  {
   "cell_type": "code",
   "execution_count": 8,
   "id": "00839185",
   "metadata": {},
   "outputs": [],
   "source": [
    "# start_date\n",
    "# placeholder list for updated start_date\n",
    "st_date = []\n",
    "\n",
    "for date in start_date:\n",
    "    if np.is_busday(date) == False:\n",
    "        x = np.busday_offset(date, 0, roll='backward')\n",
    "        st_date.append(x)\n",
    "    else:\n",
    "        st_date.append(date)\n",
    "\n",
    "# now, st_date contains business days only\n",
    "# so, I'll replace the original start_date\n",
    "# list with this one\n",
    "start_date = st_date"
   ]
  },
  {
   "cell_type": "code",
   "execution_count": 9,
   "id": "4823c961",
   "metadata": {},
   "outputs": [],
   "source": [
    "# end_date\n",
    "# placeholder list for updated end_date\n",
    "e_date = []\n",
    "\n",
    "for date in end_date:\n",
    "    if np.is_busday(date) == False:\n",
    "        x = np.busday_offset(date, 0, roll='backward')\n",
    "        e_date.append(x)\n",
    "    else:\n",
    "        e_date.append(date)\n",
    "    \n",
    "# now, e_date contains business days only\n",
    "# so, I'll replace the original end_date\n",
    "# list with this one\n",
    "end_date = e_date"
   ]
  },
  {
   "cell_type": "markdown",
   "id": "03df15a8",
   "metadata": {},
   "source": [
    "> Note: Getting [total business days](https://www.geeksforgeeks.org/python-program-to-get-total-business-days-between-two-dates/) using [NumPy](https://numpy.org/doc/stable/reference/generated/numpy.busday_count.html)"
   ]
  },
  {
   "cell_type": "code",
   "execution_count": 10,
   "id": "1b84d062",
   "metadata": {},
   "outputs": [],
   "source": [
    "# calculate real duration once again, but this\n",
    "# time around, counting business days only\n",
    "real_duration = []\n",
    "\n",
    "for (i, j) in zip(start_date, end_date):\n",
    "    one_duration = np.busday_count(i, j + 1)\n",
    "    real_duration.append(one_duration)"
   ]
  },
  {
   "cell_type": "code",
   "execution_count": 11,
   "id": "3ca90530",
   "metadata": {},
   "outputs": [],
   "source": [
    "# days since a ticket was added to the backlog\n",
    "# I chose three months (roughly 90 days)\n",
    "added_days = np.random.randint(0, 90, k)"
   ]
  },
  {
   "cell_type": "code",
   "execution_count": 12,
   "id": "279f2562",
   "metadata": {},
   "outputs": [],
   "source": [
    "# added_date must be up to three months \n",
    "# before (-) start_date\n",
    "added_date = []\n",
    "\n",
    "for (i, j) in zip(start_date, added_days):\n",
    "    one_date = np.datetime64(i) - np.timedelta64(j, 'D')\n",
    "    # I can offset 1 business day on the same loop\n",
    "    # to minimize code repetition\n",
    "    one_date = np.busday_offset(one_date, 0, roll='backward')\n",
    "    added_date.append(one_date)"
   ]
  },
  {
   "cell_type": "code",
   "execution_count": 13,
   "id": "918243aa",
   "metadata": {},
   "outputs": [],
   "source": [
    "# # check to see if it worked\n",
    "# sum_days = 0\n",
    "\n",
    "# for date in added_date:\n",
    "#     if np.is_busday(date) == False:\n",
    "#         sum_days += 1\n",
    "\n",
    "# sum_days"
   ]
  },
  {
   "cell_type": "code",
   "execution_count": 14,
   "id": "9b2c100f",
   "metadata": {},
   "outputs": [],
   "source": [
    "# list of hypothetical softwares\n",
    "software_list = ['A', 'B', 'C', 'D', 'E', 'F', 'G']"
   ]
  },
  {
   "cell_type": "code",
   "execution_count": 15,
   "id": "84db8ab8",
   "metadata": {},
   "outputs": [],
   "source": [
    "# get 1e4 entries\n",
    "software_k = np.random.choice(software_list, size=k)"
   ]
  },
  {
   "cell_type": "markdown",
   "id": "af4b67e6",
   "metadata": {},
   "source": [
    "> Note: [Faker](https://faker.readthedocs.io/en/master/index.html)'s documentation"
   ]
  },
  {
   "cell_type": "code",
   "execution_count": 16,
   "id": "5b52808c",
   "metadata": {},
   "outputs": [],
   "source": [
    "# for the dev names, I'll use the Faker library\n",
    "fake = Faker(['pt_BR'])\n",
    "\n",
    "# empty list\n",
    "devs = []\n",
    "\n",
    "for _ in range(10):\n",
    "    dev = fake.first_name_female()\n",
    "    devs.append(dev)\n",
    "\n",
    "# get k entries\n",
    "dev_k = np.random.choice(devs, size=k)"
   ]
  },
  {
   "cell_type": "code",
   "execution_count": 17,
   "id": "3a728eb6",
   "metadata": {},
   "outputs": [],
   "source": [
    "# # status\n",
    "# status = ['Não Iniciado', 'Em Desenvolvimento', 'Em Homologação', 'Pausado', 'Concluído']\n",
    "\n",
    "# # get k entries\n",
    "# status_k = np.random.choice(status, k, p=[0.2, 0.1, 0.1, 0.1, 0.5])\n",
    "\n",
    "# # test status_k size\n",
    "# len(status_k)"
   ]
  },
  {
   "cell_type": "code",
   "execution_count": 18,
   "id": "81dc2b7a",
   "metadata": {},
   "outputs": [],
   "source": [
    "# returns (number of times an item returned to developer)\n",
    "possible_returns = [0, 1, 2, 3]\n",
    "\n",
    "# k-sized list of possible returns\n",
    "# notice 0 has the highest probability\n",
    "returns_k = np.random.choice(possible_returns, k, p=[0.65, 0.2, 0.1, 0.05])"
   ]
  },
  {
   "cell_type": "code",
   "execution_count": 19,
   "id": "49a44c6a",
   "metadata": {},
   "outputs": [],
   "source": [
    "# squad responsible for the ticket\n",
    "squad = ['Epsilon', 'Theta', 'Zeta', 'Kappa', 'Chi']\n",
    "\n",
    "# get k entries\n",
    "squad_k = np.random.choice(squad, k, p=[0.3, 0.2, 0.05, 0.4, 0.05])"
   ]
  },
  {
   "cell_type": "code",
   "execution_count": 20,
   "id": "65e73fe6",
   "metadata": {},
   "outputs": [],
   "source": [
    "# get client list using Faker\n",
    "# empty list\n",
    "clients = []\n",
    "\n",
    "for _ in range(200):\n",
    "    client = fake.company()\n",
    "    clients.append(client)\n",
    "\n",
    "# get k entries\n",
    "clients_k = np.random.choice(clients, size=k)"
   ]
  },
  {
   "cell_type": "code",
   "execution_count": 21,
   "id": "93e75706",
   "metadata": {},
   "outputs": [],
   "source": [
    "df = pd.DataFrame({'added_date': added_date,\n",
    "                  'estimated_duration': est_duration,\n",
    "                  'start_date': start_date,\n",
    "                  'end_date': end_date,\n",
    "                  'real_duration': real_duration,\n",
    "                  'returns': returns_k,\n",
    "                  'software': software_k,\n",
    "                  'dev': dev_k,\n",
    "                  'squad': squad_k,\n",
    "                  'client': clients_k\n",
    "                  })"
   ]
  },
  {
   "cell_type": "code",
   "execution_count": 22,
   "id": "11f6d2bd",
   "metadata": {},
   "outputs": [
    {
     "name": "stdout",
     "output_type": "stream",
     "text": [
      "<class 'pandas.core.frame.DataFrame'>\n",
      "RangeIndex: 10000 entries, 0 to 9999\n",
      "Data columns (total 10 columns):\n",
      " #   Column              Non-Null Count  Dtype         \n",
      "---  ------              --------------  -----         \n",
      " 0   added_date          10000 non-null  datetime64[ns]\n",
      " 1   estimated_duration  10000 non-null  int32         \n",
      " 2   start_date          10000 non-null  datetime64[ns]\n",
      " 3   end_date            10000 non-null  datetime64[ns]\n",
      " 4   real_duration       10000 non-null  int64         \n",
      " 5   returns             10000 non-null  int32         \n",
      " 6   software            10000 non-null  object        \n",
      " 7   dev                 10000 non-null  object        \n",
      " 8   squad               10000 non-null  object        \n",
      " 9   client              10000 non-null  object        \n",
      "dtypes: datetime64[ns](3), int32(2), int64(1), object(4)\n",
      "memory usage: 703.2+ KB\n",
      "None\n"
     ]
    },
    {
     "data": {
      "text/html": [
       "<div>\n",
       "<style scoped>\n",
       "    .dataframe tbody tr th:only-of-type {\n",
       "        vertical-align: middle;\n",
       "    }\n",
       "\n",
       "    .dataframe tbody tr th {\n",
       "        vertical-align: top;\n",
       "    }\n",
       "\n",
       "    .dataframe thead th {\n",
       "        text-align: right;\n",
       "    }\n",
       "</style>\n",
       "<table border=\"1\" class=\"dataframe\">\n",
       "  <thead>\n",
       "    <tr style=\"text-align: right;\">\n",
       "      <th></th>\n",
       "      <th>added_date</th>\n",
       "      <th>estimated_duration</th>\n",
       "      <th>start_date</th>\n",
       "      <th>end_date</th>\n",
       "      <th>real_duration</th>\n",
       "      <th>returns</th>\n",
       "      <th>software</th>\n",
       "      <th>dev</th>\n",
       "      <th>squad</th>\n",
       "      <th>client</th>\n",
       "    </tr>\n",
       "  </thead>\n",
       "  <tbody>\n",
       "    <tr>\n",
       "      <th>0</th>\n",
       "      <td>2016-10-10</td>\n",
       "      <td>16</td>\n",
       "      <td>2017-01-06</td>\n",
       "      <td>2017-01-20</td>\n",
       "      <td>11</td>\n",
       "      <td>0</td>\n",
       "      <td>G</td>\n",
       "      <td>Eduarda</td>\n",
       "      <td>Kappa</td>\n",
       "      <td>Peixoto - ME</td>\n",
       "    </tr>\n",
       "    <tr>\n",
       "      <th>1</th>\n",
       "      <td>2016-10-11</td>\n",
       "      <td>14</td>\n",
       "      <td>2016-12-30</td>\n",
       "      <td>2017-01-13</td>\n",
       "      <td>11</td>\n",
       "      <td>3</td>\n",
       "      <td>C</td>\n",
       "      <td>Pietra</td>\n",
       "      <td>Theta</td>\n",
       "      <td>Fogaça</td>\n",
       "    </tr>\n",
       "    <tr>\n",
       "      <th>2</th>\n",
       "      <td>2016-10-14</td>\n",
       "      <td>16</td>\n",
       "      <td>2016-12-30</td>\n",
       "      <td>2017-01-24</td>\n",
       "      <td>18</td>\n",
       "      <td>2</td>\n",
       "      <td>C</td>\n",
       "      <td>Rebeca</td>\n",
       "      <td>Epsilon</td>\n",
       "      <td>Costa</td>\n",
       "    </tr>\n",
       "    <tr>\n",
       "      <th>3</th>\n",
       "      <td>2016-10-14</td>\n",
       "      <td>4</td>\n",
       "      <td>2017-01-05</td>\n",
       "      <td>2017-01-06</td>\n",
       "      <td>2</td>\n",
       "      <td>1</td>\n",
       "      <td>G</td>\n",
       "      <td>Ana Luiza</td>\n",
       "      <td>Epsilon</td>\n",
       "      <td>da Rocha - ME</td>\n",
       "    </tr>\n",
       "    <tr>\n",
       "      <th>4</th>\n",
       "      <td>2016-10-14</td>\n",
       "      <td>6</td>\n",
       "      <td>2017-01-05</td>\n",
       "      <td>2017-01-11</td>\n",
       "      <td>5</td>\n",
       "      <td>0</td>\n",
       "      <td>A</td>\n",
       "      <td>Ana Luiza</td>\n",
       "      <td>Epsilon</td>\n",
       "      <td>Nascimento - EI</td>\n",
       "    </tr>\n",
       "  </tbody>\n",
       "</table>\n",
       "</div>"
      ],
      "text/plain": [
       "  added_date  estimated_duration start_date   end_date  real_duration  \\\n",
       "0 2016-10-10                  16 2017-01-06 2017-01-20             11   \n",
       "1 2016-10-11                  14 2016-12-30 2017-01-13             11   \n",
       "2 2016-10-14                  16 2016-12-30 2017-01-24             18   \n",
       "3 2016-10-14                   4 2017-01-05 2017-01-06              2   \n",
       "4 2016-10-14                   6 2017-01-05 2017-01-11              5   \n",
       "\n",
       "   returns software        dev    squad           client  \n",
       "0        0        G    Eduarda    Kappa     Peixoto - ME  \n",
       "1        3        C     Pietra    Theta           Fogaça  \n",
       "2        2        C     Rebeca  Epsilon            Costa  \n",
       "3        1        G  Ana Luiza  Epsilon    da Rocha - ME  \n",
       "4        0        A  Ana Luiza  Epsilon  Nascimento - EI  "
      ]
     },
     "execution_count": 22,
     "metadata": {},
     "output_type": "execute_result"
    }
   ],
   "source": [
    "print(df.info())\n",
    "df = df.sort_values(by=['added_date'], ignore_index=True)\n",
    "df.head()"
   ]
  },
  {
   "cell_type": "markdown",
   "id": "b7c4280e",
   "metadata": {},
   "source": [
    "### Data Wrangling"
   ]
  },
  {
   "cell_type": "code",
   "execution_count": 23,
   "id": "583d2b8f",
   "metadata": {},
   "outputs": [],
   "source": [
    "# for now, every ticket is done, thus its status should be \"Concluído\"\n",
    "df['status'] = \"Concluído\""
   ]
  },
  {
   "cell_type": "code",
   "execution_count": 24,
   "id": "7d7e0be2",
   "metadata": {},
   "outputs": [],
   "source": [
    "# # to create the status \"Não Iniciado\", I'll randomly choose\n",
    "# # 200 tickets from the last three months\n",
    "# msk = df['added_date'] >= '2022-10-01'\n",
    "# df[msk]"
   ]
  },
  {
   "cell_type": "code",
   "execution_count": 25,
   "id": "571d4980",
   "metadata": {},
   "outputs": [],
   "source": [
    "# # if status is different from 'concluído' or 'em homologação', \n",
    "# # then logically the dev isn't done yet, thus there should be\n",
    "# # no end date nor real duration for the task\n",
    "# df.loc[(df['status'] != \"Concluído\") & (df['status'] != \"Em Homologação\"), 'end_date'] = np.nan\n",
    "# df.loc[(df['status'] != \"Concluído\") & (df['status'] != \"Em Homologação\"), 'real_duration'] = np.nan"
   ]
  },
  {
   "cell_type": "code",
   "execution_count": 26,
   "id": "b541b4ff",
   "metadata": {},
   "outputs": [],
   "source": [
    "# df.loc[(df['status'] == \"Em Desenvolvimento\"), \"start_date\"] = df['added_date']"
   ]
  },
  {
   "cell_type": "code",
   "execution_count": 27,
   "id": "daf1bd44",
   "metadata": {},
   "outputs": [],
   "source": [
    "# create directory\n",
    "folder_name = 'data'\n",
    "if not os.path.exists(folder_name):\n",
    "    os.makedirs(folder_name)"
   ]
  },
  {
   "cell_type": "code",
   "execution_count": 28,
   "id": "59fd8190",
   "metadata": {},
   "outputs": [],
   "source": [
    "df.to_csv('data/simulated-data.csv', index=False, encoding='latin1')"
   ]
  }
 ],
 "metadata": {
  "kernelspec": {
   "display_name": "Python [conda env:dand] *",
   "language": "python",
   "name": "conda-env-dand-py"
  },
  "language_info": {
   "codemirror_mode": {
    "name": "ipython",
    "version": 3
   },
   "file_extension": ".py",
   "mimetype": "text/x-python",
   "name": "python",
   "nbconvert_exporter": "python",
   "pygments_lexer": "ipython3",
   "version": "3.8.12"
  }
 },
 "nbformat": 4,
 "nbformat_minor": 5
}
