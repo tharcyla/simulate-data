{
 "cells": [
  {
   "cell_type": "markdown",
   "id": "c95cea40",
   "metadata": {},
   "source": [
    "### Import Libraries"
   ]
  },
  {
   "cell_type": "code",
   "execution_count": 1,
   "id": "e9c09f5a",
   "metadata": {},
   "outputs": [],
   "source": [
    "import numpy as np\n",
    "import pandas as pd\n",
    "import os\n",
    "from faker import Faker\n",
    "from datetime import date, timedelta\n",
    "from random import choices"
   ]
  },
  {
   "cell_type": "markdown",
   "id": "6e3d6f87",
   "metadata": {},
   "source": [
    "### Simulate Data: 100,000 entries"
   ]
  },
  {
   "cell_type": "code",
   "execution_count": 2,
   "id": "1aa577bb",
   "metadata": {},
   "outputs": [],
   "source": [
    "# size of simulation\n",
    "k = int(1e5)"
   ]
  },
  {
   "cell_type": "code",
   "execution_count": 3,
   "id": "682957e7",
   "metadata": {},
   "outputs": [],
   "source": [
    "# date ranges\n",
    "beginning, end = np.datetime64('2017-01-01'), np.datetime64('2022-12-31')\n",
    "\n",
    "# added_date\n",
    "added_date = [beginning]\n",
    "\n",
    "# loop to get each date\n",
    "while beginning != end:\n",
    "    beginning += np.timedelta64(1, 'D')\n",
    "    added_date.append(beginning)\n",
    "\n",
    "# random K dates from pack\n",
    "added_date = choices(added_date, k=k)"
   ]
  },
  {
   "cell_type": "code",
   "execution_count": 4,
   "id": "29ac55c1",
   "metadata": {},
   "outputs": [],
   "source": [
    "# task duration\n",
    "real_duration = np.random.randint(0, 20, k)"
   ]
  },
  {
   "cell_type": "code",
   "execution_count": 5,
   "id": "3296e492",
   "metadata": {},
   "outputs": [],
   "source": [
    "# end date\n",
    "end_date = []\n",
    "\n",
    "for (i, j) in zip(added_date, real_duration):\n",
    "        one_date = np.datetime64(i) + np.timedelta64(j, 'D')\n",
    "        end_date.append(one_date)"
   ]
  },
  {
   "cell_type": "code",
   "execution_count": 6,
   "id": "4e652216",
   "metadata": {},
   "outputs": [
    {
     "data": {
      "text/plain": [
       "(numpy.datetime64('2019-10-17'), 17, numpy.datetime64('2019-11-03'))"
      ]
     },
     "execution_count": 6,
     "metadata": {},
     "output_type": "execute_result"
    }
   ],
   "source": [
    "# test to see if it worked\n",
    "added_date[50], real_duration[50], end_date[50]"
   ]
  },
  {
   "cell_type": "code",
   "execution_count": 7,
   "id": "0edaf7fa",
   "metadata": {},
   "outputs": [
    {
     "data": {
      "text/plain": [
       "100000"
      ]
     },
     "execution_count": 7,
     "metadata": {},
     "output_type": "execute_result"
    }
   ],
   "source": [
    "# test size of end_date list\n",
    "len(end_date)"
   ]
  },
  {
   "cell_type": "code",
   "execution_count": 8,
   "id": "2ed0c6aa",
   "metadata": {},
   "outputs": [
    {
     "data": {
      "text/plain": [
       "100000"
      ]
     },
     "execution_count": 8,
     "metadata": {},
     "output_type": "execute_result"
    }
   ],
   "source": [
    "# test size of date_added list\n",
    "len(added_date)"
   ]
  },
  {
   "cell_type": "markdown",
   "id": "03df15a8",
   "metadata": {},
   "source": [
    "> Note: Getting [total business days](https://www.geeksforgeeks.org/python-program-to-get-total-business-days-between-two-dates/) using [NumPy](https://numpy.org/doc/stable/reference/generated/numpy.busday_count.html)"
   ]
  },
  {
   "cell_type": "code",
   "execution_count": 9,
   "id": "1b84d062",
   "metadata": {},
   "outputs": [],
   "source": [
    "# calculate real duration once again, but this\n",
    "# time around, counting business days only\n",
    "real_duration = []\n",
    "\n",
    "for (i, j) in zip(added_date, end_date):\n",
    "    one_duration = np.busday_count(i, j + 1)\n",
    "    real_duration.append(one_duration)"
   ]
  },
  {
   "cell_type": "code",
   "execution_count": 10,
   "id": "cf8a44d0",
   "metadata": {},
   "outputs": [
    {
     "data": {
      "text/plain": [
       "(numpy.datetime64('2019-10-17'), 12, numpy.datetime64('2019-11-03'))"
      ]
     },
     "execution_count": 10,
     "metadata": {},
     "output_type": "execute_result"
    }
   ],
   "source": [
    "# test to see if it worked\n",
    "added_date[50], real_duration[50], end_date[50]"
   ]
  },
  {
   "cell_type": "code",
   "execution_count": 11,
   "id": "95002cbb",
   "metadata": {},
   "outputs": [],
   "source": [
    "# estimated_duration\n",
    "est_duration = np.random.randint(0, 20, k)"
   ]
  },
  {
   "cell_type": "code",
   "execution_count": 12,
   "id": "9b2c100f",
   "metadata": {},
   "outputs": [],
   "source": [
    "# list of hypothetical softwares\n",
    "software_list = ['A', 'B', 'C', 'D', 'E', 'F', 'G']"
   ]
  },
  {
   "cell_type": "code",
   "execution_count": 13,
   "id": "84db8ab8",
   "metadata": {},
   "outputs": [],
   "source": [
    "# get 1e4 entries\n",
    "software_k = np.random.choice(software_list, size=k)"
   ]
  },
  {
   "cell_type": "markdown",
   "id": "af4b67e6",
   "metadata": {},
   "source": [
    "> Note: [Faker](https://faker.readthedocs.io/en/master/index.html)'s documentation"
   ]
  },
  {
   "cell_type": "code",
   "execution_count": 14,
   "id": "5b52808c",
   "metadata": {},
   "outputs": [],
   "source": [
    "# for the dev names, I'll use the Faker library\n",
    "fake = Faker(['pt_BR'])\n",
    "\n",
    "# empty list\n",
    "devs = []\n",
    "\n",
    "for _ in range(10):\n",
    "    dev = fake.first_name_female()\n",
    "    devs.append(dev)\n",
    "\n",
    "# get k entries\n",
    "dev_k = np.random.choice(devs, size=k)"
   ]
  },
  {
   "cell_type": "code",
   "execution_count": 15,
   "id": "3a728eb6",
   "metadata": {},
   "outputs": [
    {
     "data": {
      "text/plain": [
       "100000"
      ]
     },
     "execution_count": 15,
     "metadata": {},
     "output_type": "execute_result"
    }
   ],
   "source": [
    "# status\n",
    "status = ['Não Iniciado', 'Em Desenvolvimento', 'Em Homologação', 'Pausado', 'Concluído']\n",
    "\n",
    "# get k entries\n",
    "status_k = np.random.choice(status, k, p=[0.2, 0.1, 0.1, 0.1, 0.5])\n",
    "\n",
    "# test status_k size\n",
    "len(status_k)"
   ]
  },
  {
   "cell_type": "code",
   "execution_count": 16,
   "id": "81dc2b7a",
   "metadata": {},
   "outputs": [],
   "source": [
    "# returns (number of times an item returned to developer)\n",
    "possible_returns = [0, 1, 2, 3]\n",
    "\n",
    "# k-sized list of possible returns\n",
    "# notice 0 has the highest probability\n",
    "returns_k = np.random.choice(possible_returns, k, p=[0.65, 0.2, 0.1, 0.05])"
   ]
  },
  {
   "cell_type": "code",
   "execution_count": 17,
   "id": "49a44c6a",
   "metadata": {},
   "outputs": [],
   "source": [
    "# squad responsible for the ticket\n",
    "squad = ['Epsilon', 'Theta', 'Zeta', 'Kappa', 'Chi']\n",
    "\n",
    "# get k entries\n",
    "squad_k = np.random.choice(squad, k, p=[0.3, 0.2, 0.05, 0.4, 0.05])"
   ]
  },
  {
   "cell_type": "code",
   "execution_count": 18,
   "id": "65e73fe6",
   "metadata": {},
   "outputs": [],
   "source": [
    "# get client list using Faker\n",
    "# empty list\n",
    "clients = []\n",
    "\n",
    "for _ in range(200):\n",
    "    client = fake.company()\n",
    "    clients.append(client)\n",
    "\n",
    "# get k entries\n",
    "clients_k = np.random.choice(clients, size=k)"
   ]
  },
  {
   "cell_type": "code",
   "execution_count": 19,
   "id": "93e75706",
   "metadata": {},
   "outputs": [],
   "source": [
    "df = pd.DataFrame({'estimated_duration': est_duration,\n",
    "                  'added_date': added_date,\n",
    "                  'end_date': end_date,\n",
    "                  'real_duration': real_duration,\n",
    "                  'returns': returns_k,\n",
    "                  'software': software_k,\n",
    "                  'dev': dev_k,\n",
    "                  'squad': squad_k,\n",
    "                  'client': clients_k,\n",
    "                  'status': status_k})"
   ]
  },
  {
   "cell_type": "code",
   "execution_count": 20,
   "id": "11f6d2bd",
   "metadata": {},
   "outputs": [
    {
     "name": "stdout",
     "output_type": "stream",
     "text": [
      "<class 'pandas.core.frame.DataFrame'>\n",
      "RangeIndex: 100000 entries, 0 to 99999\n",
      "Data columns (total 10 columns):\n",
      " #   Column              Non-Null Count   Dtype         \n",
      "---  ------              --------------   -----         \n",
      " 0   estimated_duration  100000 non-null  int32         \n",
      " 1   added_date          100000 non-null  datetime64[ns]\n",
      " 2   end_date            100000 non-null  datetime64[ns]\n",
      " 3   real_duration       100000 non-null  int64         \n",
      " 4   returns             100000 non-null  int32         \n",
      " 5   software            100000 non-null  object        \n",
      " 6   dev                 100000 non-null  object        \n",
      " 7   squad               100000 non-null  object        \n",
      " 8   client              100000 non-null  object        \n",
      " 9   status              100000 non-null  object        \n",
      "dtypes: datetime64[ns](2), int32(2), int64(1), object(5)\n",
      "memory usage: 6.9+ MB\n",
      "None\n"
     ]
    },
    {
     "data": {
      "text/html": [
       "<div>\n",
       "<style scoped>\n",
       "    .dataframe tbody tr th:only-of-type {\n",
       "        vertical-align: middle;\n",
       "    }\n",
       "\n",
       "    .dataframe tbody tr th {\n",
       "        vertical-align: top;\n",
       "    }\n",
       "\n",
       "    .dataframe thead th {\n",
       "        text-align: right;\n",
       "    }\n",
       "</style>\n",
       "<table border=\"1\" class=\"dataframe\">\n",
       "  <thead>\n",
       "    <tr style=\"text-align: right;\">\n",
       "      <th></th>\n",
       "      <th>estimated_duration</th>\n",
       "      <th>added_date</th>\n",
       "      <th>end_date</th>\n",
       "      <th>real_duration</th>\n",
       "      <th>returns</th>\n",
       "      <th>software</th>\n",
       "      <th>dev</th>\n",
       "      <th>squad</th>\n",
       "      <th>client</th>\n",
       "      <th>status</th>\n",
       "    </tr>\n",
       "  </thead>\n",
       "  <tbody>\n",
       "    <tr>\n",
       "      <th>0</th>\n",
       "      <td>19</td>\n",
       "      <td>2018-02-09</td>\n",
       "      <td>2018-02-12</td>\n",
       "      <td>2</td>\n",
       "      <td>1</td>\n",
       "      <td>B</td>\n",
       "      <td>Luna</td>\n",
       "      <td>Epsilon</td>\n",
       "      <td>Barbosa</td>\n",
       "      <td>Não Iniciado</td>\n",
       "    </tr>\n",
       "    <tr>\n",
       "      <th>1</th>\n",
       "      <td>2</td>\n",
       "      <td>2018-02-18</td>\n",
       "      <td>2018-03-07</td>\n",
       "      <td>13</td>\n",
       "      <td>0</td>\n",
       "      <td>F</td>\n",
       "      <td>Marcela</td>\n",
       "      <td>Kappa</td>\n",
       "      <td>Correia</td>\n",
       "      <td>Em Desenvolvimento</td>\n",
       "    </tr>\n",
       "    <tr>\n",
       "      <th>2</th>\n",
       "      <td>6</td>\n",
       "      <td>2022-09-25</td>\n",
       "      <td>2022-09-25</td>\n",
       "      <td>0</td>\n",
       "      <td>0</td>\n",
       "      <td>F</td>\n",
       "      <td>Clarice</td>\n",
       "      <td>Kappa</td>\n",
       "      <td>Nunes</td>\n",
       "      <td>Concluído</td>\n",
       "    </tr>\n",
       "    <tr>\n",
       "      <th>3</th>\n",
       "      <td>10</td>\n",
       "      <td>2019-08-08</td>\n",
       "      <td>2019-08-25</td>\n",
       "      <td>12</td>\n",
       "      <td>0</td>\n",
       "      <td>E</td>\n",
       "      <td>Marcela</td>\n",
       "      <td>Kappa</td>\n",
       "      <td>Rocha S/A</td>\n",
       "      <td>Concluído</td>\n",
       "    </tr>\n",
       "    <tr>\n",
       "      <th>4</th>\n",
       "      <td>5</td>\n",
       "      <td>2021-10-12</td>\n",
       "      <td>2021-10-13</td>\n",
       "      <td>2</td>\n",
       "      <td>0</td>\n",
       "      <td>E</td>\n",
       "      <td>Luna</td>\n",
       "      <td>Kappa</td>\n",
       "      <td>da Rosa - ME</td>\n",
       "      <td>Em Homologação</td>\n",
       "    </tr>\n",
       "  </tbody>\n",
       "</table>\n",
       "</div>"
      ],
      "text/plain": [
       "   estimated_duration added_date   end_date  real_duration  returns software  \\\n",
       "0                  19 2018-02-09 2018-02-12              2        1        B   \n",
       "1                   2 2018-02-18 2018-03-07             13        0        F   \n",
       "2                   6 2022-09-25 2022-09-25              0        0        F   \n",
       "3                  10 2019-08-08 2019-08-25             12        0        E   \n",
       "4                   5 2021-10-12 2021-10-13              2        0        E   \n",
       "\n",
       "       dev    squad        client              status  \n",
       "0     Luna  Epsilon       Barbosa        Não Iniciado  \n",
       "1  Marcela    Kappa       Correia  Em Desenvolvimento  \n",
       "2  Clarice    Kappa         Nunes           Concluído  \n",
       "3  Marcela    Kappa     Rocha S/A           Concluído  \n",
       "4     Luna    Kappa  da Rosa - ME      Em Homologação  "
      ]
     },
     "execution_count": 20,
     "metadata": {},
     "output_type": "execute_result"
    }
   ],
   "source": [
    "print(df.info())\n",
    "df.head()"
   ]
  },
  {
   "cell_type": "markdown",
   "id": "b7c4280e",
   "metadata": {},
   "source": [
    "### Data Wrangling"
   ]
  },
  {
   "cell_type": "code",
   "execution_count": 21,
   "id": "571d4980",
   "metadata": {},
   "outputs": [],
   "source": [
    "# if status is different from 'concluído' or 'em homologação', \n",
    "# then logically the dev isn't done yet, thus there should be\n",
    "# no end date nor real duration for the task\n",
    "df.loc[(df['status'] != \"Concluído\") & (df['status'] != \"Em Homologação\"), 'end_date'] = np.nan\n",
    "df.loc[(df['status'] != \"Concluído\") & (df['status'] != \"Em Homologação\"), 'real_duration'] = np.nan"
   ]
  },
  {
   "cell_type": "code",
   "execution_count": 22,
   "id": "b541b4ff",
   "metadata": {},
   "outputs": [],
   "source": [
    "df.loc[(df['status'] == \"Em Desenvolvimento\"), \"start_date\"] = df['added_date']"
   ]
  },
  {
   "cell_type": "code",
   "execution_count": 23,
   "id": "97b2dddd",
   "metadata": {},
   "outputs": [
    {
     "name": "stdout",
     "output_type": "stream",
     "text": [
      "<class 'pandas.core.frame.DataFrame'>\n",
      "RangeIndex: 100000 entries, 0 to 99999\n",
      "Data columns (total 11 columns):\n",
      " #   Column              Non-Null Count   Dtype         \n",
      "---  ------              --------------   -----         \n",
      " 0   estimated_duration  100000 non-null  int32         \n",
      " 1   added_date          100000 non-null  datetime64[ns]\n",
      " 2   end_date            59990 non-null   datetime64[ns]\n",
      " 3   real_duration       59990 non-null   float64       \n",
      " 4   returns             100000 non-null  int32         \n",
      " 5   software            100000 non-null  object        \n",
      " 6   dev                 100000 non-null  object        \n",
      " 7   squad               100000 non-null  object        \n",
      " 8   client              100000 non-null  object        \n",
      " 9   status              100000 non-null  object        \n",
      " 10  start_date          9929 non-null    datetime64[ns]\n",
      "dtypes: datetime64[ns](3), float64(1), int32(2), object(5)\n",
      "memory usage: 7.6+ MB\n"
     ]
    }
   ],
   "source": [
    "df.info()"
   ]
  },
  {
   "cell_type": "code",
   "execution_count": 24,
   "id": "c38f54f3",
   "metadata": {},
   "outputs": [
    {
     "data": {
      "text/html": [
       "<div>\n",
       "<style scoped>\n",
       "    .dataframe tbody tr th:only-of-type {\n",
       "        vertical-align: middle;\n",
       "    }\n",
       "\n",
       "    .dataframe tbody tr th {\n",
       "        vertical-align: top;\n",
       "    }\n",
       "\n",
       "    .dataframe thead th {\n",
       "        text-align: right;\n",
       "    }\n",
       "</style>\n",
       "<table border=\"1\" class=\"dataframe\">\n",
       "  <thead>\n",
       "    <tr style=\"text-align: right;\">\n",
       "      <th></th>\n",
       "      <th>estimated_duration</th>\n",
       "      <th>added_date</th>\n",
       "      <th>end_date</th>\n",
       "      <th>real_duration</th>\n",
       "      <th>returns</th>\n",
       "      <th>software</th>\n",
       "      <th>dev</th>\n",
       "      <th>squad</th>\n",
       "      <th>client</th>\n",
       "      <th>status</th>\n",
       "      <th>start_date</th>\n",
       "    </tr>\n",
       "  </thead>\n",
       "  <tbody>\n",
       "    <tr>\n",
       "      <th>1</th>\n",
       "      <td>2</td>\n",
       "      <td>2018-02-18</td>\n",
       "      <td>NaT</td>\n",
       "      <td>NaN</td>\n",
       "      <td>0</td>\n",
       "      <td>F</td>\n",
       "      <td>Marcela</td>\n",
       "      <td>Kappa</td>\n",
       "      <td>Correia</td>\n",
       "      <td>Em Desenvolvimento</td>\n",
       "      <td>2018-02-18</td>\n",
       "    </tr>\n",
       "    <tr>\n",
       "      <th>29</th>\n",
       "      <td>19</td>\n",
       "      <td>2021-06-06</td>\n",
       "      <td>NaT</td>\n",
       "      <td>NaN</td>\n",
       "      <td>1</td>\n",
       "      <td>D</td>\n",
       "      <td>Evelyn</td>\n",
       "      <td>Theta</td>\n",
       "      <td>Viana Cavalcanti Ltda.</td>\n",
       "      <td>Em Desenvolvimento</td>\n",
       "      <td>2021-06-06</td>\n",
       "    </tr>\n",
       "    <tr>\n",
       "      <th>36</th>\n",
       "      <td>5</td>\n",
       "      <td>2022-03-28</td>\n",
       "      <td>NaT</td>\n",
       "      <td>NaN</td>\n",
       "      <td>0</td>\n",
       "      <td>D</td>\n",
       "      <td>Clarice</td>\n",
       "      <td>Kappa</td>\n",
       "      <td>Rocha Ltda.</td>\n",
       "      <td>Em Desenvolvimento</td>\n",
       "      <td>2022-03-28</td>\n",
       "    </tr>\n",
       "    <tr>\n",
       "      <th>53</th>\n",
       "      <td>6</td>\n",
       "      <td>2017-06-05</td>\n",
       "      <td>NaT</td>\n",
       "      <td>NaN</td>\n",
       "      <td>2</td>\n",
       "      <td>F</td>\n",
       "      <td>Júlia</td>\n",
       "      <td>Epsilon</td>\n",
       "      <td>Lopes</td>\n",
       "      <td>Em Desenvolvimento</td>\n",
       "      <td>2017-06-05</td>\n",
       "    </tr>\n",
       "    <tr>\n",
       "      <th>74</th>\n",
       "      <td>16</td>\n",
       "      <td>2022-01-01</td>\n",
       "      <td>NaT</td>\n",
       "      <td>NaN</td>\n",
       "      <td>0</td>\n",
       "      <td>C</td>\n",
       "      <td>Evelyn</td>\n",
       "      <td>Kappa</td>\n",
       "      <td>Costela</td>\n",
       "      <td>Em Desenvolvimento</td>\n",
       "      <td>2022-01-01</td>\n",
       "    </tr>\n",
       "    <tr>\n",
       "      <th>...</th>\n",
       "      <td>...</td>\n",
       "      <td>...</td>\n",
       "      <td>...</td>\n",
       "      <td>...</td>\n",
       "      <td>...</td>\n",
       "      <td>...</td>\n",
       "      <td>...</td>\n",
       "      <td>...</td>\n",
       "      <td>...</td>\n",
       "      <td>...</td>\n",
       "      <td>...</td>\n",
       "    </tr>\n",
       "    <tr>\n",
       "      <th>99960</th>\n",
       "      <td>18</td>\n",
       "      <td>2019-03-17</td>\n",
       "      <td>NaT</td>\n",
       "      <td>NaN</td>\n",
       "      <td>0</td>\n",
       "      <td>E</td>\n",
       "      <td>Evelyn</td>\n",
       "      <td>Kappa</td>\n",
       "      <td>Nascimento S.A.</td>\n",
       "      <td>Em Desenvolvimento</td>\n",
       "      <td>2019-03-17</td>\n",
       "    </tr>\n",
       "    <tr>\n",
       "      <th>99968</th>\n",
       "      <td>8</td>\n",
       "      <td>2017-03-23</td>\n",
       "      <td>NaT</td>\n",
       "      <td>NaN</td>\n",
       "      <td>1</td>\n",
       "      <td>E</td>\n",
       "      <td>Amanda</td>\n",
       "      <td>Kappa</td>\n",
       "      <td>Ramos S/A</td>\n",
       "      <td>Em Desenvolvimento</td>\n",
       "      <td>2017-03-23</td>\n",
       "    </tr>\n",
       "    <tr>\n",
       "      <th>99994</th>\n",
       "      <td>10</td>\n",
       "      <td>2022-07-16</td>\n",
       "      <td>NaT</td>\n",
       "      <td>NaN</td>\n",
       "      <td>0</td>\n",
       "      <td>A</td>\n",
       "      <td>Júlia</td>\n",
       "      <td>Chi</td>\n",
       "      <td>Aragão Costela Ltda.</td>\n",
       "      <td>Em Desenvolvimento</td>\n",
       "      <td>2022-07-16</td>\n",
       "    </tr>\n",
       "    <tr>\n",
       "      <th>99995</th>\n",
       "      <td>15</td>\n",
       "      <td>2021-06-21</td>\n",
       "      <td>NaT</td>\n",
       "      <td>NaN</td>\n",
       "      <td>1</td>\n",
       "      <td>E</td>\n",
       "      <td>Luna</td>\n",
       "      <td>Epsilon</td>\n",
       "      <td>Correia</td>\n",
       "      <td>Em Desenvolvimento</td>\n",
       "      <td>2021-06-21</td>\n",
       "    </tr>\n",
       "    <tr>\n",
       "      <th>99998</th>\n",
       "      <td>4</td>\n",
       "      <td>2021-06-24</td>\n",
       "      <td>NaT</td>\n",
       "      <td>NaN</td>\n",
       "      <td>1</td>\n",
       "      <td>G</td>\n",
       "      <td>Luna</td>\n",
       "      <td>Epsilon</td>\n",
       "      <td>Costa</td>\n",
       "      <td>Em Desenvolvimento</td>\n",
       "      <td>2021-06-24</td>\n",
       "    </tr>\n",
       "  </tbody>\n",
       "</table>\n",
       "<p>9929 rows × 11 columns</p>\n",
       "</div>"
      ],
      "text/plain": [
       "       estimated_duration added_date end_date  real_duration  returns  \\\n",
       "1                       2 2018-02-18      NaT            NaN        0   \n",
       "29                     19 2021-06-06      NaT            NaN        1   \n",
       "36                      5 2022-03-28      NaT            NaN        0   \n",
       "53                      6 2017-06-05      NaT            NaN        2   \n",
       "74                     16 2022-01-01      NaT            NaN        0   \n",
       "...                   ...        ...      ...            ...      ...   \n",
       "99960                  18 2019-03-17      NaT            NaN        0   \n",
       "99968                   8 2017-03-23      NaT            NaN        1   \n",
       "99994                  10 2022-07-16      NaT            NaN        0   \n",
       "99995                  15 2021-06-21      NaT            NaN        1   \n",
       "99998                   4 2021-06-24      NaT            NaN        1   \n",
       "\n",
       "      software      dev    squad                  client              status  \\\n",
       "1            F  Marcela    Kappa                 Correia  Em Desenvolvimento   \n",
       "29           D   Evelyn    Theta  Viana Cavalcanti Ltda.  Em Desenvolvimento   \n",
       "36           D  Clarice    Kappa             Rocha Ltda.  Em Desenvolvimento   \n",
       "53           F    Júlia  Epsilon                   Lopes  Em Desenvolvimento   \n",
       "74           C   Evelyn    Kappa                 Costela  Em Desenvolvimento   \n",
       "...        ...      ...      ...                     ...                 ...   \n",
       "99960        E   Evelyn    Kappa         Nascimento S.A.  Em Desenvolvimento   \n",
       "99968        E   Amanda    Kappa               Ramos S/A  Em Desenvolvimento   \n",
       "99994        A    Júlia      Chi    Aragão Costela Ltda.  Em Desenvolvimento   \n",
       "99995        E     Luna  Epsilon                 Correia  Em Desenvolvimento   \n",
       "99998        G     Luna  Epsilon                   Costa  Em Desenvolvimento   \n",
       "\n",
       "      start_date  \n",
       "1     2018-02-18  \n",
       "29    2021-06-06  \n",
       "36    2022-03-28  \n",
       "53    2017-06-05  \n",
       "74    2022-01-01  \n",
       "...          ...  \n",
       "99960 2019-03-17  \n",
       "99968 2017-03-23  \n",
       "99994 2022-07-16  \n",
       "99995 2021-06-21  \n",
       "99998 2021-06-24  \n",
       "\n",
       "[9929 rows x 11 columns]"
      ]
     },
     "execution_count": 24,
     "metadata": {},
     "output_type": "execute_result"
    }
   ],
   "source": [
    "df.query('status == \"Em Desenvolvimento\"')"
   ]
  },
  {
   "cell_type": "code",
   "execution_count": 25,
   "id": "daf1bd44",
   "metadata": {},
   "outputs": [],
   "source": [
    "# create directory\n",
    "folder_name = 'data'\n",
    "if not os.path.exists(folder_name):\n",
    "    os.makedirs(folder_name)"
   ]
  },
  {
   "cell_type": "code",
   "execution_count": 26,
   "id": "59fd8190",
   "metadata": {},
   "outputs": [],
   "source": [
    "df.to_csv('data/simulated-data.csv', index=False, encoding='latin1')"
   ]
  }
 ],
 "metadata": {
  "kernelspec": {
   "display_name": "Python [conda env:dand] *",
   "language": "python",
   "name": "conda-env-dand-py"
  },
  "language_info": {
   "codemirror_mode": {
    "name": "ipython",
    "version": 3
   },
   "file_extension": ".py",
   "mimetype": "text/x-python",
   "name": "python",
   "nbconvert_exporter": "python",
   "pygments_lexer": "ipython3",
   "version": "3.8.12"
  }
 },
 "nbformat": 4,
 "nbformat_minor": 5
}
